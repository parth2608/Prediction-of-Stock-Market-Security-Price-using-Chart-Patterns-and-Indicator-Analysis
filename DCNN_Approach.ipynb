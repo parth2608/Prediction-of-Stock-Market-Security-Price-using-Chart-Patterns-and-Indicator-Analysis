{
  "nbformat": 4,
  "nbformat_minor": 0,
  "metadata": {
    "accelerator": "TPU",
    "colab": {
      "name": "DCNN Approach.ipynb",
      "provenance": [],
      "collapsed_sections": []
    },
    "kernelspec": {
      "display_name": "Python 3",
      "name": "python3"
    }
  },
  "cells": [
    {
      "cell_type": "code",
      "metadata": {
        "colab": {
          "base_uri": "https://localhost:8080/"
        },
        "id": "2jcjFSqwlH97",
        "outputId": "e33d92f9-b438-407c-fa59-d3827075c177"
      },
      "source": [
        "!pip install mplfinance\n",
        "#to create candle-stick charts"
      ],
      "execution_count": null,
      "outputs": [
        {
          "output_type": "stream",
          "text": [
            "Collecting mplfinance\n",
            "\u001b[?25l  Downloading https://files.pythonhosted.org/packages/3f/4e/a3de915df8d112579beb3df22e47b3929670b10e9c5dfd4a2b31bf1a34a7/mplfinance-0.12.7a17-py3-none-any.whl (62kB)\n",
            "\r\u001b[K     |█████▎                          | 10kB 13.5MB/s eta 0:00:01\r\u001b[K     |██████████▌                     | 20kB 14.0MB/s eta 0:00:01\r\u001b[K     |███████████████▊                | 30kB 9.9MB/s eta 0:00:01\r\u001b[K     |█████████████████████           | 40kB 7.8MB/s eta 0:00:01\r\u001b[K     |██████████████████████████▎     | 51kB 4.6MB/s eta 0:00:01\r\u001b[K     |███████████████████████████████▌| 61kB 5.4MB/s eta 0:00:01\r\u001b[K     |████████████████████████████████| 71kB 3.7MB/s \n",
            "\u001b[?25hRequirement already satisfied: pandas in /usr/local/lib/python3.7/dist-packages (from mplfinance) (1.1.5)\n",
            "Requirement already satisfied: matplotlib in /usr/local/lib/python3.7/dist-packages (from mplfinance) (3.2.2)\n",
            "Requirement already satisfied: numpy>=1.15.4 in /usr/local/lib/python3.7/dist-packages (from pandas->mplfinance) (1.19.5)\n",
            "Requirement already satisfied: pytz>=2017.2 in /usr/local/lib/python3.7/dist-packages (from pandas->mplfinance) (2018.9)\n",
            "Requirement already satisfied: python-dateutil>=2.7.3 in /usr/local/lib/python3.7/dist-packages (from pandas->mplfinance) (2.8.1)\n",
            "Requirement already satisfied: cycler>=0.10 in /usr/local/lib/python3.7/dist-packages (from matplotlib->mplfinance) (0.10.0)\n",
            "Requirement already satisfied: pyparsing!=2.0.4,!=2.1.2,!=2.1.6,>=2.0.1 in /usr/local/lib/python3.7/dist-packages (from matplotlib->mplfinance) (2.4.7)\n",
            "Requirement already satisfied: kiwisolver>=1.0.1 in /usr/local/lib/python3.7/dist-packages (from matplotlib->mplfinance) (1.3.1)\n",
            "Requirement already satisfied: six>=1.5 in /usr/local/lib/python3.7/dist-packages (from python-dateutil>=2.7.3->pandas->mplfinance) (1.15.0)\n",
            "Installing collected packages: mplfinance\n",
            "Successfully installed mplfinance-0.12.7a17\n"
          ],
          "name": "stdout"
        }
      ]
    },
    {
      "cell_type": "code",
      "metadata": {
        "colab": {
          "base_uri": "https://localhost:8080/"
        },
        "id": "b9lxDyhd-5Md",
        "outputId": "d6aed87d-cc5a-48c1-a58e-58cdfd7a4216"
      },
      "source": [
        "#if Rutvik:\n",
        "from google.colab import drive\n",
        "drive.mount('/content/gdrive')\n",
        "%cd '/content/gdrive/MyDrive/Comprehensive Project/'"
      ],
      "execution_count": null,
      "outputs": [
        {
          "output_type": "stream",
          "text": [
            "Mounted at /content/gdrive\n",
            "/content/gdrive/MyDrive/Comprehensive Project\n"
          ],
          "name": "stdout"
        }
      ]
    },
    {
      "cell_type": "code",
      "metadata": {
        "colab": {
          "base_uri": "https://localhost:8080/"
        },
        "id": "nyS9xi5QpIdU",
        "outputId": "b4975479-3e7a-467c-da4d-81102ba54d57"
      },
      "source": [
        "# if Parth:\n",
        "from google.colab import drive\n",
        "drive.mount('/content/gdrive')\n",
        "%cd '/content/gdrive/.shortcut-targets-by-id/1YqdFa0VgzGfO_qydt2yan1_-O-mFSzJ4/Comprehensive Project'"
      ],
      "execution_count": null,
      "outputs": [
        {
          "output_type": "stream",
          "text": [
            "Mounted at /content/gdrive\n",
            "/content/gdrive/.shortcut-targets-by-id/1YqdFa0VgzGfO_qydt2yan1_-O-mFSzJ4/Comprehensive Project\n"
          ],
          "name": "stdout"
        }
      ]
    },
    {
      "cell_type": "code",
      "metadata": {
        "colab": {
          "base_uri": "https://localhost:8080/",
          "height": 35
        },
        "id": "cS9H9ldaGiyA",
        "outputId": "4dff4d46-0296-4ef4-917a-7a2fe40eb12e"
      },
      "source": [
        "\"\"\"\n",
        "!rm data1/train/buy/*\n",
        "!rm data1/train/sell/*\n",
        "!rm data1/train/no_change/*\n",
        "\"\"\""
      ],
      "execution_count": null,
      "outputs": [
        {
          "output_type": "execute_result",
          "data": {
            "application/vnd.google.colaboratory.intrinsic+json": {
              "type": "string"
            },
            "text/plain": [
              "'\\n!rm data1/train/buy/*\\n!rm data1/train/sell/*\\n!rm data1/train/no_change/*\\n'"
            ]
          },
          "metadata": {
            "tags": []
          },
          "execution_count": 76
        }
      ]
    },
    {
      "cell_type": "code",
      "metadata": {
        "id": "hje3wvVIb4jv"
      },
      "source": [
        "from pandas_datareader import data\n",
        "from numpy import genfromtxt\n",
        "import matplotlib.pyplot as plt\n",
        "import mplfinance.original_flavor as mpl_finance\n",
        "import numpy as np\n",
        "import uuid"
      ],
      "execution_count": null,
      "outputs": []
    },
    {
      "cell_type": "code",
      "metadata": {
        "id": "Z6gGlGR9jGk2"
      },
      "source": [
        "modes_list = ['next__day', 'next_3_days', 'next_5_days']\n",
        "mode = modes_list[0]"
      ],
      "execution_count": null,
      "outputs": []
    },
    {
      "cell_type": "code",
      "metadata": {
        "id": "EyeIg1m2gWo1"
      },
      "source": [
        "#to create folders in \"test\" folder based on ticker_list\n",
        "\n",
        "import os\n",
        "ticker_list = [\"SBIN.NS\", \"BANKBARODA.NS\", \"AXISBANK.NS\", \"FEDERALBNK.NS\", \"ICICIBANK.NS\", \"INDUSINDBK.NS\", \"PNB.NS\", \"HDFCBANK.NS\", \"KOTAKBANK.NS\"]\n",
        "for t in ticker_list:\n",
        "  os.mkdir('data2/' + mode + '/test/' + t)\n",
        "  os.mkdir('data2/' + mode + '/test/' + t + '/buy')\n",
        "  os.mkdir('data2/' + mode + '/test/' + t + '/sell')\n",
        "  os.mkdir('data2/' + mode + '/test/' + t + '/no_change')"
      ],
      "execution_count": null,
      "outputs": []
    },
    {
      "cell_type": "code",
      "metadata": {
        "colab": {
          "base_uri": "https://localhost:8080/",
          "height": 204
        },
        "id": "i97Y7QvPT-DP",
        "outputId": "bd746970-8fc9-40e4-f3f1-16ede2fa9211"
      },
      "source": [
        "ticker_list = [\"SBIN.NS\", \"BANKBARODA.NS\", \"AXISBANK.NS\", \"FEDERALBNK.NS\", \"ICICIBANK.NS\", \"INDUSINDBK.NS\", \"PNB.NS\", \"HDFCBANK.NS\", \"KOTAKBANK.NS\"]\n",
        "print(\"CREATING TEST DATA :\")\n",
        "for t in ticker_list:\n",
        "  print(\"   GET DATA: TICKER = \", t)\n",
        "  df = data.DataReader(t, start='2010-1-1', end='2021-04-21', data_source='yahoo')\n",
        "\n",
        "  buy_dir  = 'data2/' + mode + '/test/' + t + '/buy/'\n",
        "  sell_dir = 'data2/' + mode + '/test/' + t + '/sell/'\n",
        "  no_change_dir = 'data2/' + mode + '/test/' + t + '/no_change/'\n",
        "  change_thres = 0.025\n",
        "\n",
        "  def convolve_sma(array, period): #find moving average\n",
        "      return np.convolve(array, np.ones((period,))/period, mode='valid')\n",
        "\n",
        "  def graphwerk(start, finish):\n",
        "      open, high, low, close, volume, date = [], [], [], [], [], []\n",
        "      for _ in range(finish-start):\n",
        "          open.append(df['Open'][start])\n",
        "          high.append(df['High'][start])\n",
        "          low.append(df['Low'][start])\n",
        "          close.append(df['Close'][start])\n",
        "          #volume.append(df['Volume'][start])\n",
        "          date.append(df.index[start])\n",
        "          start = start + 1\n",
        "\n",
        "      if mode == modes_list[0]:\n",
        "        close_next = float(df['Close'][finish])\n",
        "\n",
        "      elif mode == modes_list[1]:\n",
        "        next_3_avg = []\n",
        "        for i in range(3):\n",
        "          next_3_avg.append(float(df['Close'][finish + i]))\n",
        "        next_3_avg = np.average(next_3_avg)\n",
        "        close_next = next_3_avg\n",
        "\n",
        "      elif mode == modes_list[2]:\n",
        "        next_5_avg = []\n",
        "        for i in range(5):\n",
        "          next_5_avg.append(float(df['Close'][finish + i]))\n",
        "        next_5_avg = np.average(next_5_avg)\n",
        "        close_next = next_5_avg\n",
        "\n",
        "      sma = convolve_sma(close, 5)\n",
        "      smb = list(sma)\n",
        "      diff = sma[-1] - sma[-2]\n",
        "\n",
        "      for x in range(len(close)-len(smb)):\n",
        "          smb.append(smb[-1]+diff)\n",
        "\n",
        "      fig = plt.figure(num=1, figsize=(3, 3), dpi=50, facecolor='w', edgecolor='k')\n",
        "      dx = fig.add_subplot(111)\n",
        "      #mpl_finance.volume_overlay(ax, open, close, volume, width=0.4, colorup='b', colordown='b', alpha=1)\n",
        "      mpl_finance.candlestick2_ochl(dx,open, close, high, low, width=1.5, colorup='g', colordown='r', alpha=0.5)\n",
        "\n",
        "      plt.autoscale()\n",
        "      plt.plot(smb, color=\"blue\", linewidth=10, alpha=0.5)\n",
        "      plt.axis('off')\n",
        "      comp_ratio = close_next / close[-1]\n",
        "      #print(comp_ratio)\n",
        "\n",
        "      if close[-1] > close_next and abs((close[-1]-close_next)/close[-1]) > change_thres :\n",
        "              #print('close value is bigger')\n",
        "              #print('last value: ' + str(close[-1]))\n",
        "              #print('next value: ' + str(close_next))\n",
        "              #print('sell')\n",
        "              plt.savefig(sell_dir + \"diff=\" + str(round(100*abs((close[-1]-close_next)/close[-1]),3)) + \"___\" + str(uuid.uuid4()) +'.jpg', bbox_inches='tight')\n",
        "\n",
        "      elif abs((close[-1]-close_next)/close[-1]) > change_thres:\n",
        "              #print('close value is smaller')\n",
        "              #print('last value: '+ str(close[-1]))\n",
        "              #print('next value: ' + str(close_next))\n",
        "              #print('buy')\n",
        "              plt.savefig(buy_dir + \"diff=\" + str(round(100*abs((close[-1]-close_next)/close[-1]),3)) + \"___\" + str(uuid.uuid4()) +'.jpg', bbox_inches='tight')\n",
        "      else:\n",
        "              #print('close value change is less')\n",
        "              #print('last value: '+ str(close[-1]))\n",
        "              #print('next value: ' + str(close_next))\n",
        "              #print('no_change')\n",
        "              plt.savefig(no_change_dir + \"diff=\" + str(round(100*abs((close[-1]-close_next)/close[-1]),3)) + \"___\" + str(uuid.uuid4())+'.jpg', bbox_inches='tight')\n",
        "\n",
        "      #plt.show()\n",
        "      open.clear()\n",
        "      close.clear()\n",
        "      volume.clear()\n",
        "      high.clear()\n",
        "      low.clear()\n",
        "      plt.cla()\n",
        "      plt.clf()\n",
        "  iter_count = int(len(df)/4)\n",
        "  iter = 0\n",
        "  for x in range(len(df) - 4):\n",
        "    if iter + 28 >= len(df):\n",
        "      break\n",
        "\n",
        "    graphwerk(iter, iter + 8)\n",
        "    iter = iter + 2"
      ],
      "execution_count": null,
      "outputs": [
        {
          "output_type": "stream",
          "text": [
            "CREATING TEST DATA :\n",
            "   GET DATA: TICKER =  SBIN.NS\n",
            "   GET DATA: TICKER =  BANKBARODA.NS\n",
            "   GET DATA: TICKER =  AXISBANK.NS\n",
            "   GET DATA: TICKER =  FEDERALBNK.NS\n",
            "   GET DATA: TICKER =  ICICIBANK.NS\n",
            "   GET DATA: TICKER =  INDUSINDBK.NS\n",
            "   GET DATA: TICKER =  PNB.NS\n",
            "   GET DATA: TICKER =  HDFCBANK.NS\n",
            "   GET DATA: TICKER =  KOTAKBANK.NS\n"
          ],
          "name": "stdout"
        },
        {
          "output_type": "display_data",
          "data": {
            "text/plain": [
              "<Figure size 150x150 with 0 Axes>"
            ]
          },
          "metadata": {
            "tags": []
          }
        }
      ]
    },
    {
      "cell_type": "code",
      "metadata": {
        "colab": {
          "background_save": true,
          "base_uri": "https://localhost:8080/"
        },
        "id": "AAI2V-o-CKBH",
        "outputId": "990f6bd0-5411-4157-e4fe-cdbd3915a656"
      },
      "source": [
        "#merge all folders from \"test\" and create common \"buy\", \"sell\" and \"no_change\" folders\n",
        "from distutils.dir_util import copy_tree\n",
        "import os\n",
        "print(\"CREATING TRAIN DATA :\")\n",
        "for t in ticker_list:\n",
        "  for sclass in ['buy', 'sell', 'no_change']:\n",
        "    copy_tree(str(os.getcwd()) + '/data2/' + mode + '/test/' + t + '/' + sclass + '/', str(os.getcwd()) + '/data2/' + mode + '/train/' + sclass + '/')"
      ],
      "execution_count": null,
      "outputs": [
        {
          "output_type": "stream",
          "text": [
            "CREATING TRAIN DATA :\n"
          ],
          "name": "stdout"
        }
      ]
    },
    {
      "cell_type": "markdown",
      "metadata": {
        "id": "A452ZqRuUgo3"
      },
      "source": [
        "# Training"
      ]
    },
    {
      "cell_type": "code",
      "metadata": {
        "id": "9qzKU-YzRsyf"
      },
      "source": [
        "import os\n",
        "import sys\n",
        "from tensorflow import keras\n",
        "import tensorflow as tf\n",
        "from tensorflow.keras import optimizers, initializers\n",
        "from tensorflow.keras.layers import Dropout, Flatten, Dense, Activation, BatchNormalization\n",
        "from tensorflow.keras.layers import Convolution2D, MaxPooling2D, Conv2D\n",
        "from tensorflow.keras.models import Sequential\n",
        "from tensorflow.keras.preprocessing.image import ImageDataGenerator\n",
        "from tensorflow.keras.callbacks import ModelCheckpoint"
      ],
      "execution_count": null,
      "outputs": []
    },
    {
      "cell_type": "code",
      "metadata": {
        "colab": {
          "base_uri": "https://localhost:8080/"
        },
        "id": "Yb8fm3lidnz4",
        "outputId": "d036ff56-ea69-4686-bf9d-5f144ab370f5"
      },
      "source": [
        "img_width, img_height = 150, 150\n",
        "datagen_train_validation = ImageDataGenerator(\n",
        "                                   rescale=1./255,\n",
        "                                   horizontal_flip = False,\n",
        "                                   validation_split = 0.2)  \n",
        "                                  \n",
        "train_generator = datagen_train_validation.flow_from_directory(\n",
        "                                  'data2/' + mode + '/train/',\n",
        "                                  target_size = (img_width, img_height),\n",
        "                                  seed = 5,\n",
        "                                  class_mode = 'categorical',\n",
        "                                  subset='training')\n",
        "\n",
        "validation_generator = datagen_train_validation.flow_from_directory(\n",
        "                                  'data2/' + mode + '/train/',\n",
        "                                  target_size = (img_width, img_height),\n",
        "                                  seed = 5,\n",
        "                                  class_mode = 'categorical',\n",
        "                                  subset = 'validation')"
      ],
      "execution_count": null,
      "outputs": [
        {
          "output_type": "stream",
          "text": [
            "Found 9930 images belonging to 3 classes.\n",
            "Found 2481 images belonging to 3 classes.\n"
          ],
          "name": "stdout"
        }
      ]
    },
    {
      "cell_type": "code",
      "metadata": {
        "colab": {
          "base_uri": "https://localhost:8080/"
        },
        "id": "G_FQXHzbUd0O",
        "outputId": "9698daab-c61d-49aa-cfb9-52f2330d1a98"
      },
      "source": [
        "model = Sequential()\n",
        "model.add(Conv2D(filters = 32, kernel_size = (5, 5), activation='relu', padding = 'same', input_shape = (150, 150 , 3)))\n",
        "model.add(MaxPooling2D(pool_size=(2, 2)))\n",
        "model.add(BatchNormalization())\n",
        "\n",
        "model.add(Conv2D(filters=64, kernel_size=(3, 3), activation='relu', padding = 'same'))\n",
        "model.add(MaxPooling2D(pool_size=(2, 2)))\n",
        "model.add(BatchNormalization())\n",
        "\n",
        "model.add(Conv2D(filters=128, kernel_size=(3, 3), activation='relu', padding = 'same'))\n",
        "model.add(Conv2D(filters=128, kernel_size=(3, 3), activation='relu', padding = 'same'))\n",
        "model.add(MaxPooling2D(pool_size=(2, 2)))\n",
        "model.add(BatchNormalization())\n",
        "\n",
        "model.add(Flatten())\n",
        "model.add(Dense(512, activation='relu'))\n",
        "model.add(Dense(16, activation='relu'))\n",
        "model.add(Dense(3, activation='softmax'))\n",
        "\n",
        "model.summary()\n",
        "model.compile(loss='categorical_crossentropy',\n",
        "                      optimizer='adam',\n",
        "                      metrics=['accuracy', tf.keras.metrics.TruePositives(name=\"TP\"), tf.keras.metrics.TrueNegatives(name=\"TN\"), tf.keras.metrics.FalsePositives(name=\"FP\"), tf.keras.metrics.FalseNegatives(name=\"FN\")])"
      ],
      "execution_count": null,
      "outputs": [
        {
          "output_type": "stream",
          "text": [
            "Model: \"sequential_4\"\n",
            "_________________________________________________________________\n",
            "Layer (type)                 Output Shape              Param #   \n",
            "=================================================================\n",
            "conv2d_16 (Conv2D)           (None, 150, 150, 32)      2432      \n",
            "_________________________________________________________________\n",
            "max_pooling2d_12 (MaxPooling (None, 75, 75, 32)        0         \n",
            "_________________________________________________________________\n",
            "batch_normalization_12 (Batc (None, 75, 75, 32)        128       \n",
            "_________________________________________________________________\n",
            "conv2d_17 (Conv2D)           (None, 75, 75, 64)        18496     \n",
            "_________________________________________________________________\n",
            "max_pooling2d_13 (MaxPooling (None, 37, 37, 64)        0         \n",
            "_________________________________________________________________\n",
            "batch_normalization_13 (Batc (None, 37, 37, 64)        256       \n",
            "_________________________________________________________________\n",
            "conv2d_18 (Conv2D)           (None, 37, 37, 128)       73856     \n",
            "_________________________________________________________________\n",
            "conv2d_19 (Conv2D)           (None, 37, 37, 128)       147584    \n",
            "_________________________________________________________________\n",
            "max_pooling2d_14 (MaxPooling (None, 18, 18, 128)       0         \n",
            "_________________________________________________________________\n",
            "batch_normalization_14 (Batc (None, 18, 18, 128)       512       \n",
            "_________________________________________________________________\n",
            "flatten_4 (Flatten)          (None, 41472)             0         \n",
            "_________________________________________________________________\n",
            "dense_12 (Dense)             (None, 512)               21234176  \n",
            "_________________________________________________________________\n",
            "dense_13 (Dense)             (None, 16)                8208      \n",
            "_________________________________________________________________\n",
            "dense_14 (Dense)             (None, 3)                 51        \n",
            "=================================================================\n",
            "Total params: 21,485,699\n",
            "Trainable params: 21,485,251\n",
            "Non-trainable params: 448\n",
            "_________________________________________________________________\n"
          ],
          "name": "stdout"
        }
      ]
    },
    {
      "cell_type": "code",
      "metadata": {
        "id": "4dKpPKD2gthb"
      },
      "source": [
        "model = keras.models.load_model(str(os.getcwd()) + '/models/' + mode)"
      ],
      "execution_count": null,
      "outputs": []
    },
    {
      "cell_type": "code",
      "metadata": {
        "colab": {
          "base_uri": "https://localhost:8080/"
        },
        "id": "-6R9rkSs2xjf",
        "outputId": "69335d52-1b15-4a1f-e12b-cb34d26b8a7e"
      },
      "source": [
        "#target_dir = \"models/weights-improvement-{epoch:02d}-{val_accuracy:.2f}.hdf5\"\n",
        "#if not os.path.exists(target_dir):\n",
        "#  os.mkdir(target_dir)\n",
        "#model.save('models/model.h5')\n",
        "#model.save_weights('models/weights.h5')\n",
        "\n",
        "#checkpoint = ModelCheckpoint(target_dir, monitor='val_accuracy', verbose=1, save_best_only=True, mode='max')\n",
        "#callbacks_list = [checkpoint]\n",
        "\n",
        "history = model.fit(\n",
        "    x = train_generator,\n",
        "    steps_per_epoch=16,\n",
        "    epochs = 8,\n",
        "    shuffle=False,\n",
        "    validation_data=validation_generator\n",
        "    #callbacks=callbacks_list\n",
        "    )\n",
        "\n",
        "#img_res=(150,150)  next_day__1  val_acc=85\n",
        "#img_res=(200,200)  next_days_3  val_acc=76\n",
        "#img_res=(150,150)  next_days_3  val_acc=76\n",
        "#img_res=(150,150)  next_days_5  val_acc=69"
      ],
      "execution_count": null,
      "outputs": [
        {
          "output_type": "stream",
          "text": [
            "Epoch 1/8\n",
            "16/16 [==============================] - 138s 9s/step - loss: 2.7388 - accuracy: 0.7075 - TP: 145.4118 - TN: 524.0000 - FP: 48.2353 - FN: 140.7059 - val_loss: 0.6600 - val_accuracy: 0.8130 - val_TP: 2017.0000 - val_TN: 4498.0000 - val_FP: 464.0000 - val_FN: 464.0000\n",
            "Epoch 2/8\n",
            "16/16 [==============================] - 138s 9s/step - loss: 1.2930 - accuracy: 0.7627 - TP: 34.2353 - TN: 558.3529 - FP: 13.8824 - FN: 251.8824 - val_loss: 0.7324 - val_accuracy: 0.8130 - val_TP: 2017.0000 - val_TN: 4498.0000 - val_FP: 464.0000 - val_FN: 464.0000\n",
            "Epoch 3/8\n",
            "16/16 [==============================] - 136s 8s/step - loss: 1.0731 - accuracy: 0.7235 - TP: 1.8824 - TN: 552.8824 - FP: 19.3529 - FN: 284.2353 - val_loss: 0.9915 - val_accuracy: 0.8130 - val_TP: 5.0000 - val_TN: 4961.0000 - val_FP: 1.0000 - val_FN: 2476.0000\n",
            "Epoch 4/8\n",
            "16/16 [==============================] - 131s 8s/step - loss: 1.0544 - accuracy: 0.8227 - TP: 0.0000e+00 - TN: 572.2353 - FP: 0.0000e+00 - FN: 286.1176 - val_loss: 0.9683 - val_accuracy: 0.8130 - val_TP: 268.0000 - val_TN: 4919.0000 - val_FP: 43.0000 - val_FN: 2213.0000\n",
            "Epoch 5/8\n",
            "16/16 [==============================] - 123s 8s/step - loss: 1.0437 - accuracy: 0.7825 - TP: 0.0000e+00 - TN: 572.2353 - FP: 0.0000e+00 - FN: 286.1176 - val_loss: 0.8461 - val_accuracy: 0.8130 - val_TP: 928.0000 - val_TN: 4778.0000 - val_FP: 184.0000 - val_FN: 1553.0000\n",
            "Epoch 6/8\n",
            "16/16 [==============================] - 120s 8s/step - loss: 1.0295 - accuracy: 0.7859 - TP: 0.0000e+00 - TN: 572.2353 - FP: 0.0000e+00 - FN: 286.1176 - val_loss: 0.8036 - val_accuracy: 0.8130 - val_TP: 1395.0000 - val_TN: 4656.0000 - val_FP: 306.0000 - val_FN: 1086.0000\n",
            "Epoch 7/8\n",
            "16/16 [==============================] - 116s 7s/step - loss: 1.0101 - accuracy: 0.8187 - TP: 0.0000e+00 - TN: 572.2353 - FP: 0.0000e+00 - FN: 286.1176 - val_loss: 0.8358 - val_accuracy: 0.8130 - val_TP: 1574.0000 - val_TN: 4605.0000 - val_FP: 357.0000 - val_FN: 907.0000\n",
            "Epoch 8/8\n",
            "16/16 [==============================] - 116s 7s/step - loss: 0.9964 - accuracy: 0.8166 - TP: 0.0000e+00 - TN: 572.2353 - FP: 0.0000e+00 - FN: 286.1176 - val_loss: 0.8285 - val_accuracy: 0.8130 - val_TP: 1408.0000 - val_TN: 4641.0000 - val_FP: 321.0000 - val_FN: 1073.0000\n"
          ],
          "name": "stdout"
        }
      ]
    },
    {
      "cell_type": "code",
      "metadata": {
        "id": "Y5nKxhujjasZ"
      },
      "source": [
        "!ls models -l"
      ],
      "execution_count": null,
      "outputs": []
    },
    {
      "cell_type": "code",
      "metadata": {
        "colab": {
          "base_uri": "https://localhost:8080/"
        },
        "id": "A4zGcQ-qf75A",
        "outputId": "3628efbd-3584-4dca-aed6-8d7016a59cc5"
      },
      "source": [
        "model.save(str(os.getcwd()) + '/models/' + mode + '__banks_26Apr_3')"
      ],
      "execution_count": null,
      "outputs": [
        {
          "output_type": "stream",
          "text": [
            "INFO:tensorflow:Assets written to: /content/gdrive/My Drive/Comprehensive Project/models/next__day__banks_26Apr_3/assets\n"
          ],
          "name": "stdout"
        }
      ]
    },
    {
      "cell_type": "markdown",
      "metadata": {
        "id": "dM--uZLafFpX"
      },
      "source": [
        "# Testing on Individual Tickers"
      ]
    },
    {
      "cell_type": "code",
      "metadata": {
        "id": "tf14kif4XL8d"
      },
      "source": [
        "modes_list = ['next__day', 'next_3_days', 'next_5_days']\n",
        "mode = modes_list[0]\n",
        "model = keras.models.load_model(str(os.getcwd()) + '/models/' + mode + '__bank_8')"
      ],
      "execution_count": null,
      "outputs": []
    },
    {
      "cell_type": "code",
      "metadata": {
        "id": "vCAGEu1raQRW"
      },
      "source": [
        "\"\"\"\n",
        "import os\n",
        "ticker_list = [\"SBIN.NS\", \"BANKBARODA.NS\", \"AXISBANK.NS\", \"FEDERALBNK.NS\", \"ICICIBANK.NS\", \"INDUSINDBK.NS\", \"PNB.NS\", \"HDFCBANK.NS\", \"KOTAKBANK.NS\"]\n",
        "for t in ticker_list:\n",
        "  os.mkdir('data1/' + mode + '/test/' + t)\n",
        "  os.mkdir('data1/' + mode + '/test/' + t + '/buy')\n",
        "  os.mkdir('data1/' + mode + '/test/' + t + '/sell')\n",
        "  os.mkdir('data1/' + mode + '/test/' + t + '/no_change')\n",
        "\"\"\""
      ],
      "execution_count": null,
      "outputs": []
    },
    {
      "cell_type": "code",
      "metadata": {
        "id": "yglbxWG_esuD"
      },
      "source": [
        "\"\"\"\n",
        "import shutil\n",
        "shutil.rmtree()\n",
        "for t in ticker_list:\n",
        "  shutil.rmtree('data/' + mode + '/test/' + t + '/buy/')\n",
        "  shutil.rmtree('data/' + mode + '/test/' + t + '/sell/')\n",
        "  shutil.rmtree('data/' + mode + '/test/' + t + '/no_change/')\n",
        "\"\"\""
      ],
      "execution_count": null,
      "outputs": []
    },
    {
      "cell_type": "code",
      "metadata": {
        "id": "X-JFU0wKMw9i"
      },
      "source": [
        "ticker_list = [\"SBIN.NS\", \"BANKBARODA.NS\", \"AXISBANK.NS\", \"FEDERALBNK.NS\", \"ICICIBANK.NS\", \"INDUSINDBK.NS\", \"PNB.NS\", \"HDFCBANK.NS\", \"KOTAKBANK.NS\"]"
      ],
      "execution_count": null,
      "outputs": []
    },
    {
      "cell_type": "code",
      "metadata": {
        "colab": {
          "base_uri": "https://localhost:8080/"
        },
        "id": "ALdr0G-9gcS3",
        "outputId": "45fa6095-f5b7-4045-ee36-1f6a35392d8b"
      },
      "source": [
        "filenames_dict, predict_dict = {}, {}\n",
        "\n",
        "for t in ticker_list:\n",
        "  print(\"Testing for : \", t, \"  mode : \", mode )\n",
        "  img_width, img_height = 150, 150\n",
        "  datagen_test = ImageDataGenerator(\n",
        "                                  rescale=1./255,\n",
        "                                  horizontal_flip = False,\n",
        "                                  validation_split = False)  \n",
        "                                    \n",
        "  test_generator = datagen_test.flow_from_directory(\n",
        "                                    'data2/' + mode + '/test/' + t,\n",
        "                                    target_size = (img_width, img_height),\n",
        "                                    seed = 5,\n",
        "                                    shuffle = False,\n",
        "                                    class_mode = 'categorical',\n",
        "                                    subset=None)\n",
        "  filenames = test_generator.filenames\n",
        "  predict = model.evaluate(x=test_generator)\n",
        "  filenames_dict[t] = filenames\n",
        "  predict_dict[t] = predict"
      ],
      "execution_count": null,
      "outputs": [
        {
          "output_type": "stream",
          "text": [
            "Testing for :  SBIN.NS   mode :  next__day\n",
            "Found 1379 images belonging to 3 classes.\n",
            "44/44 [==============================] - 260s 6s/step - loss: 0.8112 - accuracy: 0.8107 - TP: 757.0000 - TN: 2593.0000 - FP: 165.0000 - FN: 622.0000\n",
            "Testing for :  BANKBARODA.NS   mode :  next__day\n",
            "Found 1379 images belonging to 3 classes.\n",
            "44/44 [==============================] - 278s 6s/step - loss: 0.9450 - accuracy: 0.7592 - TP: 755.0000 - TN: 2518.0000 - FP: 240.0000 - FN: 624.0000\n",
            "Testing for :  AXISBANK.NS   mode :  next__day\n",
            "Found 1379 images belonging to 3 classes.\n",
            "44/44 [==============================] - 288s 7s/step - loss: 0.8662 - accuracy: 0.7839 - TP: 720.0000 - TN: 2562.0000 - FP: 196.0000 - FN: 659.0000\n",
            "Testing for :  FEDERALBNK.NS   mode :  next__day\n",
            "Found 1379 images belonging to 3 classes.\n",
            "44/44 [==============================] - 283s 7s/step - loss: 0.8767 - accuracy: 0.7839 - TP: 739.0000 - TN: 2552.0000 - FP: 206.0000 - FN: 640.0000\n",
            "Testing for :  ICICIBANK.NS   mode :  next__day\n",
            "Found 1379 images belonging to 3 classes.\n",
            "44/44 [==============================] - 297s 7s/step - loss: 0.8076 - accuracy: 0.8144 - TP: 734.0000 - TN: 2596.0000 - FP: 162.0000 - FN: 645.0000\n",
            "Testing for :  INDUSINDBK.NS   mode :  next__day\n",
            "Found 1379 images belonging to 3 classes.\n",
            "44/44 [==============================] - 302s 7s/step - loss: 0.8702 - accuracy: 0.8064 - TP: 789.0000 - TN: 2568.0000 - FP: 190.0000 - FN: 590.0000\n",
            "Testing for :  PNB.NS   mode :  next__day\n",
            "Found 1379 images belonging to 3 classes.\n",
            "44/44 [==============================] - 271s 6s/step - loss: 0.8816 - accuracy: 0.7665 - TP: 770.0000 - TN: 2540.0000 - FP: 218.0000 - FN: 609.0000\n",
            "Testing for :  HDFCBANK.NS   mode :  next__day\n",
            "Found 1379 images belonging to 3 classes.\n",
            "44/44 [==============================] - 271s 6s/step - loss: 0.5780 - accuracy: 0.9224 - TP: 867.0000 - TN: 2686.0000 - FP: 72.0000 - FN: 512.0000\n",
            "Testing for :  KOTAKBANK.NS   mode :  next__day\n",
            "Found 1379 images belonging to 3 classes.\n",
            "44/44 [==============================] - 263s 6s/step - loss: 0.6978 - accuracy: 0.8673 - TP: 863.0000 - TN: 2623.0000 - FP: 135.0000 - FN: 516.0000\n"
          ],
          "name": "stdout"
        }
      ]
    },
    {
      "cell_type": "code",
      "metadata": {
        "id": "ECil5ZJAb8Cu"
      },
      "source": [
        "\"\"\"\n",
        "8 Days Window\n",
        "TICKER           next_day\n",
        "\n",
        "SBIN.NS       :   81.28\n",
        "BANKBARODA.NS :   75.92\n",
        "AXISBANK.NS   :   78.34\n",
        "CENTRALBK.NS  :   78.12\n",
        "HDFCBANK.NS   :   92.36\n",
        "INDIANB.NS    :   72.91\n",
        "KOTAKBANK.NS  :   86.78\n",
        "UNIONBANK.NS  :   68.58\n",
        "CANBK.NS      :   70.78\n",
        "IOB.NS        :   78.78\n",
        "\"\"\""
      ],
      "execution_count": null,
      "outputs": []
    },
    {
      "cell_type": "code",
      "metadata": {
        "id": "dM7_D7kjaOPj"
      },
      "source": [
        "\"\"\"\n",
        "20 Days Window\n",
        "TICKER           next_day\n",
        "\n",
        "SBIN.NS       :   81.28\n",
        "BANKBARODA.NS :   75.92\n",
        "AXISBANK.NS   :   78.56  \n",
        "CENTRALBK.NS  :   78.12\n",
        "HDFCBANK.NS   :   92.44\n",
        "INDIANB.NS    :   72.61\n",
        "KOTAKBANK.NS  :   86.78  \n",
        "UNIONBANK.NS  :   68.50\n",
        "CANBK.NS      :   70.70\n",
        "IOB.NS        :   78.78\n",
        "\"\"\""
      ],
      "execution_count": null,
      "outputs": []
    },
    {
      "cell_type": "code",
      "metadata": {
        "id": "MCAj6FWwm3se"
      },
      "source": [
        "\"\"\"\n",
        "12 Days Window\n",
        "TICKER        next_5_days   next_3_days   next_day\n",
        "\n",
        "SBIN.NS       :   60.38       67.89         70.80\n",
        "BANKBARODA.NS :   55.52       63.62         65.68\n",
        "ADANIPOWER.NS :   50.66       58.32         60.64\n",
        "RELIANCE.NS   :   69.37       78.94         78.50\n",
        "HDFCBANK.NS   :   80.71       86.38         86.60\n",
        "TCS.NS        :   74.23       81.96         81.96\n",
        "INFY.NS       :   76.73       84.54         83.54\n",
        "HDFC.NS       :   76.95       82.77         82.62\n",
        "BHARTIARTL.NS :   66.86       73.49         74.04\n",
        "WIPRO.NS      :   76.29       82.11         83.06\n",
        "ULTRACEMCO.NS :   72.75       79.82         80.04\n",
        "TITAN.NS      :   65.54       72.61         73.75\n",
        "\n",
        "\n",
        "\"\"\""
      ],
      "execution_count": null,
      "outputs": []
    }
  ]
}